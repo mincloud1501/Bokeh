{
 "cells": [
  {
   "cell_type": "code",
   "execution_count": 1,
   "metadata": {},
   "outputs": [],
   "source": [
    "from bokeh.plotting import figure, output_file, show"
   ]
  },
  {
   "cell_type": "code",
   "execution_count": 2,
   "metadata": {},
   "outputs": [],
   "source": [
    "x = [0.1, 0.5, 1.0, 1.5, 2.0, 2.5, 3.0]\n",
    "y0 = [i**2 for i in x]\n",
    "y1 = [10**i for i in x]\n",
    "y2 = [10**(i**2) for i in x]"
   ]
  },
  {
   "cell_type": "code",
   "execution_count": 3,
   "metadata": {},
   "outputs": [],
   "source": [
    "output_file(\"log_lines.html\")"
   ]
  },
  {
   "cell_type": "code",
   "execution_count": 4,
   "metadata": {},
   "outputs": [],
   "source": [
    "p = figure(\n",
    "   tools=\"pan,box_zoom,reset,save\",\n",
    "   y_axis_type=\"log\", y_range=[0.001, 10**11], title=\"log axis example\",\n",
    "   x_axis_label='sections', y_axis_label='particles'\n",
    ")"
   ]
  },
  {
   "cell_type": "code",
   "execution_count": 5,
   "metadata": {},
   "outputs": [
    {
     "data": {
      "text/html": [
       "<div style=\"display: table;\"><div style=\"display: table-row;\"><div style=\"display: table-cell;\"><b title=\"bokeh.models.renderers.GlyphRenderer\">GlyphRenderer</b>(</div><div style=\"display: table-cell;\">id&nbsp;=&nbsp;'1ad26f76-9b46-4898-99e3-7e2c3dfcd841', <span id=\"249dcf15-acfd-421b-b403-72ebae21be6d\" style=\"cursor: pointer;\">&hellip;)</span></div></div><div class=\"16a0daec-ba17-4e3f-a1f6-7febd92fa8a9\" style=\"display: none;\"><div style=\"display: table-cell;\"></div><div style=\"display: table-cell;\">data_source&nbsp;=&nbsp;ColumnDataSource(id='c864abee-1469-4201-8e6f-6e317c4c7a47', ...),</div></div><div class=\"16a0daec-ba17-4e3f-a1f6-7febd92fa8a9\" style=\"display: none;\"><div style=\"display: table-cell;\"></div><div style=\"display: table-cell;\">glyph&nbsp;=&nbsp;Line(id='168768ca-49e7-44e8-a27c-65c1aa2328ad', ...),</div></div><div class=\"16a0daec-ba17-4e3f-a1f6-7febd92fa8a9\" style=\"display: none;\"><div style=\"display: table-cell;\"></div><div style=\"display: table-cell;\">hover_glyph&nbsp;=&nbsp;None,</div></div><div class=\"16a0daec-ba17-4e3f-a1f6-7febd92fa8a9\" style=\"display: none;\"><div style=\"display: table-cell;\"></div><div style=\"display: table-cell;\">js_event_callbacks&nbsp;=&nbsp;{},</div></div><div class=\"16a0daec-ba17-4e3f-a1f6-7febd92fa8a9\" style=\"display: none;\"><div style=\"display: table-cell;\"></div><div style=\"display: table-cell;\">js_property_callbacks&nbsp;=&nbsp;{},</div></div><div class=\"16a0daec-ba17-4e3f-a1f6-7febd92fa8a9\" style=\"display: none;\"><div style=\"display: table-cell;\"></div><div style=\"display: table-cell;\">level&nbsp;=&nbsp;'glyph',</div></div><div class=\"16a0daec-ba17-4e3f-a1f6-7febd92fa8a9\" style=\"display: none;\"><div style=\"display: table-cell;\"></div><div style=\"display: table-cell;\">muted&nbsp;=&nbsp;False,</div></div><div class=\"16a0daec-ba17-4e3f-a1f6-7febd92fa8a9\" style=\"display: none;\"><div style=\"display: table-cell;\"></div><div style=\"display: table-cell;\">muted_glyph&nbsp;=&nbsp;None,</div></div><div class=\"16a0daec-ba17-4e3f-a1f6-7febd92fa8a9\" style=\"display: none;\"><div style=\"display: table-cell;\"></div><div style=\"display: table-cell;\">name&nbsp;=&nbsp;None,</div></div><div class=\"16a0daec-ba17-4e3f-a1f6-7febd92fa8a9\" style=\"display: none;\"><div style=\"display: table-cell;\"></div><div style=\"display: table-cell;\">nonselection_glyph&nbsp;=&nbsp;Line(id='5cbb0b17-468a-4670-9d47-a1e57757501c', ...),</div></div><div class=\"16a0daec-ba17-4e3f-a1f6-7febd92fa8a9\" style=\"display: none;\"><div style=\"display: table-cell;\"></div><div style=\"display: table-cell;\">selection_glyph&nbsp;=&nbsp;None,</div></div><div class=\"16a0daec-ba17-4e3f-a1f6-7febd92fa8a9\" style=\"display: none;\"><div style=\"display: table-cell;\"></div><div style=\"display: table-cell;\">subscribed_events&nbsp;=&nbsp;[],</div></div><div class=\"16a0daec-ba17-4e3f-a1f6-7febd92fa8a9\" style=\"display: none;\"><div style=\"display: table-cell;\"></div><div style=\"display: table-cell;\">tags&nbsp;=&nbsp;[],</div></div><div class=\"16a0daec-ba17-4e3f-a1f6-7febd92fa8a9\" style=\"display: none;\"><div style=\"display: table-cell;\"></div><div style=\"display: table-cell;\">view&nbsp;=&nbsp;CDSView(id='9fbb58c8-21d7-496f-9b8d-baf927c03cc8', ...),</div></div><div class=\"16a0daec-ba17-4e3f-a1f6-7febd92fa8a9\" style=\"display: none;\"><div style=\"display: table-cell;\"></div><div style=\"display: table-cell;\">visible&nbsp;=&nbsp;True,</div></div><div class=\"16a0daec-ba17-4e3f-a1f6-7febd92fa8a9\" style=\"display: none;\"><div style=\"display: table-cell;\"></div><div style=\"display: table-cell;\">x_range_name&nbsp;=&nbsp;'default',</div></div><div class=\"16a0daec-ba17-4e3f-a1f6-7febd92fa8a9\" style=\"display: none;\"><div style=\"display: table-cell;\"></div><div style=\"display: table-cell;\">y_range_name&nbsp;=&nbsp;'default')</div></div></div>\n",
       "<script>\n",
       "(function() {\n",
       "  var expanded = false;\n",
       "  var ellipsis = document.getElementById(\"249dcf15-acfd-421b-b403-72ebae21be6d\");\n",
       "  ellipsis.addEventListener(\"click\", function() {\n",
       "    var rows = document.getElementsByClassName(\"16a0daec-ba17-4e3f-a1f6-7febd92fa8a9\");\n",
       "    for (var i = 0; i < rows.length; i++) {\n",
       "      var el = rows[i];\n",
       "      el.style.display = expanded ? \"none\" : \"table-row\";\n",
       "    }\n",
       "    ellipsis.innerHTML = expanded ? \"&hellip;)\" : \"&lsaquo;&lsaquo;&lsaquo;\";\n",
       "    expanded = !expanded;\n",
       "  });\n",
       "})();\n",
       "</script>\n"
      ],
      "text/plain": [
       "bokeh.models.renderers.GlyphRenderer(\n",
       "    id='1ad26f76-9b46-4898-99e3-7e2c3dfcd841',\n",
       "    data_source=bokeh.models.sources.ColumnDataSource(\n",
       "        id='c864abee-1469-4201-8e6f-6e317c4c7a47',\n",
       "        callback=None,\n",
       "        data={'x': [0.1, 0.5, 1.0, 1.5, 2.0, 2.5, 3.0],\n",
       "         'y': [1.023292992280754,\n",
       "          1.7782794100389228,\n",
       "          10.0,\n",
       "          177.82794100389228,\n",
       "          10000.0,\n",
       "          1778279.410038923,\n",
       "          1000000000.0]},\n",
       "        js_event_callbacks={},\n",
       "        js_property_callbacks={},\n",
       "        name=None,\n",
       "        selected=bokeh.models.selections.Selection(\n",
       "            id='b1ce86a5-a8fb-4ec9-a20e-e0617db8258c',\n",
       "            indices=[],\n",
       "            js_event_callbacks={},\n",
       "            js_property_callbacks={},\n",
       "            line_indices=[],\n",
       "            multiline_indices={},\n",
       "            name=None,\n",
       "            subscribed_events=[],\n",
       "            tags=[]),\n",
       "        selection_policy=bokeh.models.selections.UnionRenderers(\n",
       "            id='eec7abeb-6e38-4c36-b6dc-69a593d636d6',\n",
       "            js_event_callbacks={},\n",
       "            js_property_callbacks={},\n",
       "            name=None,\n",
       "            subscribed_events=[],\n",
       "            tags=[]),\n",
       "        subscribed_events=[],\n",
       "        tags=[]),\n",
       "    glyph=bokeh.models.glyphs.Line(\n",
       "        id='168768ca-49e7-44e8-a27c-65c1aa2328ad',\n",
       "        js_event_callbacks={},\n",
       "        js_property_callbacks={},\n",
       "        line_alpha=1.0,\n",
       "        line_cap='butt',\n",
       "        line_color='orange',\n",
       "        line_dash=[4, 4],\n",
       "        line_dash_offset=0,\n",
       "        line_join='miter',\n",
       "        line_width=1,\n",
       "        name=None,\n",
       "        subscribed_events=[],\n",
       "        tags=[],\n",
       "        x={'field': 'x'},\n",
       "        y={'field': 'y'}),\n",
       "    hover_glyph=None,\n",
       "    js_event_callbacks={},\n",
       "    js_property_callbacks={},\n",
       "    level='glyph',\n",
       "    muted=False,\n",
       "    muted_glyph=None,\n",
       "    name=None,\n",
       "    nonselection_glyph=bokeh.models.glyphs.Line(\n",
       "        id='5cbb0b17-468a-4670-9d47-a1e57757501c',\n",
       "        js_event_callbacks={},\n",
       "        js_property_callbacks={},\n",
       "        line_alpha=0.1,\n",
       "        line_cap='butt',\n",
       "        line_color='#1f77b4',\n",
       "        line_dash=[4, 4],\n",
       "        line_dash_offset=0,\n",
       "        line_join='miter',\n",
       "        line_width=1,\n",
       "        name=None,\n",
       "        subscribed_events=[],\n",
       "        tags=[],\n",
       "        x={'field': 'x'},\n",
       "        y={'field': 'y'}),\n",
       "    selection_glyph=None,\n",
       "    subscribed_events=[],\n",
       "    tags=[],\n",
       "    view=bokeh.models.sources.CDSView(\n",
       "        id='9fbb58c8-21d7-496f-9b8d-baf927c03cc8',\n",
       "        filters=[],\n",
       "        js_event_callbacks={},\n",
       "        js_property_callbacks={},\n",
       "        name=None,\n",
       "        source=bokeh.models.sources.ColumnDataSource(\n",
       "            id='c864abee-1469-4201-8e6f-6e317c4c7a47',\n",
       "            callback=None,\n",
       "            data={'x': [0.1, 0.5, 1.0, 1.5, 2.0, 2.5, 3.0],\n",
       "             'y': [1.023292992280754,\n",
       "              1.7782794100389228,\n",
       "              10.0,\n",
       "              177.82794100389228,\n",
       "              10000.0,\n",
       "              1778279.410038923,\n",
       "              1000000000.0]},\n",
       "            js_event_callbacks={},\n",
       "            js_property_callbacks={},\n",
       "            name=None,\n",
       "            selected=bokeh.models.selections.Selection(\n",
       "                id='b1ce86a5-a8fb-4ec9-a20e-e0617db8258c',\n",
       "                indices=[],\n",
       "                js_event_callbacks={},\n",
       "                js_property_callbacks={},\n",
       "                line_indices=[],\n",
       "                multiline_indices={},\n",
       "                name=None,\n",
       "                subscribed_events=[],\n",
       "                tags=[]),\n",
       "            selection_policy=bokeh.models.selections.UnionRenderers(\n",
       "                id='eec7abeb-6e38-4c36-b6dc-69a593d636d6',\n",
       "                js_event_callbacks={},\n",
       "                js_property_callbacks={},\n",
       "                name=None,\n",
       "                subscribed_events=[],\n",
       "                tags=[]),\n",
       "            subscribed_events=[],\n",
       "            tags=[]),\n",
       "        subscribed_events=[],\n",
       "        tags=[]),\n",
       "    visible=True,\n",
       "    x_range_name='default',\n",
       "    y_range_name='default')"
      ]
     },
     "execution_count": 5,
     "metadata": {},
     "output_type": "execute_result"
    }
   ],
   "source": [
    "p.line(x, x, legend=\"y=x\")\n",
    "p.circle(x, x, legend=\"y=x\", fill_color=\"white\", size=8)\n",
    "p.line(x, y0, legend=\"y=x^2\", line_width=3)\n",
    "p.line(x, y1, legend=\"y=10^x\", line_color=\"red\")\n",
    "p.circle(x, y1, legend=\"y=10^x\", fill_color=\"red\", line_color=\"red\", size=6)\n",
    "p.line(x, y2, legend=\"y=10^x^2\", line_color=\"orange\", line_dash=\"4 4\")"
   ]
  },
  {
   "cell_type": "code",
   "execution_count": 6,
   "metadata": {},
   "outputs": [],
   "source": [
    "show(p)"
   ]
  },
  {
   "cell_type": "code",
   "execution_count": null,
   "metadata": {},
   "outputs": [],
   "source": []
  }
 ],
 "metadata": {
  "kernelspec": {
   "display_name": "mincloud",
   "language": "python",
   "name": "mincloud"
  },
  "language_info": {
   "codemirror_mode": {
    "name": "ipython",
    "version": 3
   },
   "file_extension": ".py",
   "mimetype": "text/x-python",
   "name": "python",
   "nbconvert_exporter": "python",
   "pygments_lexer": "ipython3",
   "version": "3.6.5"
  }
 },
 "nbformat": 4,
 "nbformat_minor": 2
}
